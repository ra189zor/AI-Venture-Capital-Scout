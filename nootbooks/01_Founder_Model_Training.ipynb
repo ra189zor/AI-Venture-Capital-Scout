{
 "cells": [
  {
   "cell_type": "code",
   "execution_count": 8,
   "metadata": {
    "tags": [
     "celll1"
    ]
   },
   "outputs": [
    {
     "name": "stdout",
     "output_type": "stream",
     "text": [
      "--- Generating Synthetic Founder Data ---\n",
      "Generated 1000 samples.\n",
      "Synthetic data saved to: ../data/synthetic_founder_data.csv\n",
      "Sample data head:\n",
      "    years_exp  prior_exits  education_tier  success\n",
      "0   9.363503            3               3        1\n",
      "1  23.767858            2               2        1\n",
      "2  18.299849            4               3        1\n",
      "3  14.966462            0               2        1\n",
      "4   3.900466            4               1        1\n",
      "\n",
      "Success distribution:\n",
      " success\n",
      "1    0.694\n",
      "0    0.306\n",
      "Name: proportion, dtype: float64\n",
      "------------------------------\n"
     ]
    }
   ],
   "source": [
    "# notebooks/01_Founder_Model_Training.ipynb (Cell 1: Data Generation)\n",
    "\n",
    "import pandas as pd\n",
    "import numpy as np\n",
    "import os\n",
    "\n",
    "# --- Configuration ---\n",
    "SYNTHETIC_DATA_PATH = '../data/synthetic_founder_data.csv' # Relative path from notebook to data folder\n",
    "NUM_SAMPLES = 1000\n",
    "RANDOM_SEED = 42\n",
    "\n",
    "# --- Generate Data ---\n",
    "print(\"--- Generating Synthetic Founder Data ---\")\n",
    "np.random.seed(RANDOM_SEED) # for reproducibility\n",
    "\n",
    "# Features\n",
    "years_exp = np.random.uniform(0, 25, NUM_SAMPLES)\n",
    "prior_exits = np.random.randint(0, 5, NUM_SAMPLES)\n",
    "# Education tier: 1 (e.g., < Bachelor's), 2 (Bachelor's/Master's), 3 (PhD/Top Tier/Ivy) - simplified concept\n",
    "education_tier = np.random.randint(1, 4, NUM_SAMPLES)\n",
    "\n",
    "# Create a synthetic 'success' target variable (0=No, 1=Yes)\n",
    "# Make success slightly more likely with experience, exits, and higher education tier\n",
    "success_probability = (\n",
    "    0.1 + # Base probability\n",
    "    (years_exp / 75) +      # Experience helps moderately\n",
    "    (prior_exits * 0.15) +  # Exits help significantly\n",
    "    (education_tier * 0.07) # Higher tier helps a bit more\n",
    ")\n",
    "# Clip probabilities to be realistic (e.g., between 5% and 95%)\n",
    "success_probability = np.clip(success_probability, 0.05, 0.95)\n",
    "# Generate binary success outcomes based on the probability\n",
    "success = (np.random.rand(NUM_SAMPLES) < success_probability).astype(int)\n",
    "\n",
    "# Create DataFrame\n",
    "df_synthetic = pd.DataFrame({\n",
    "    'years_exp': years_exp,\n",
    "    'prior_exits': prior_exits,\n",
    "    'education_tier': education_tier,\n",
    "    'success': success\n",
    "})\n",
    "\n",
    "# --- Save Data ---\n",
    "# Ensure the data directory exists\n",
    "data_dir = os.path.dirname(SYNTHETIC_DATA_PATH)\n",
    "os.makedirs(data_dir, exist_ok=True)\n",
    "\n",
    "df_synthetic.to_csv(SYNTHETIC_DATA_PATH, index=False)\n",
    "print(f\"Generated {len(df_synthetic)} samples.\")\n",
    "print(f\"Synthetic data saved to: {SYNTHETIC_DATA_PATH}\")\n",
    "print(\"Sample data head:\\n\", df_synthetic.head())\n",
    "print(\"\\nSuccess distribution:\\n\", df_synthetic['success'].value_counts(normalize=True))\n",
    "print(\"-\" * 30)"
   ]
  },
  {
   "cell_type": "code",
   "execution_count": 9,
   "metadata": {
    "tags": [
     "cell2"
    ]
   },
   "outputs": [
    {
     "name": "stdout",
     "output_type": "stream",
     "text": [
      "--- Configuration Settings ---\n",
      "Notebook execution directory: d:\\Ai agents Projects\\AI Venture Capital Scout\\nootbooks\n",
      "Data Path: ../data/synthetic_founder_data.csv\n",
      "Model Save Directory: ../models\n",
      "--> Model Filename: founder_success_model.keras\n",
      "--> Scaler Filename: founder_scaler.joblib\n",
      "Model FULL Save Path: ../models\\founder_success_model.keras\n",
      "Scaler FULL Save Path: ../models\\founder_scaler.joblib\n",
      "------------------------------\n"
     ]
    }
   ],
   "source": [
    "# notebooks/01_Founder_Model_Training.ipynb (Cell 2: Imports & Config)\n",
    "\n",
    "import tensorflow as tf\n",
    "from sklearn.model_selection import train_test_split\n",
    "from sklearn.preprocessing import StandardScaler\n",
    "from sklearn.metrics import roc_auc_score, classification_report, confusion_matrix\n",
    "import joblib # For saving the scaler\n",
    "import matplotlib.pyplot as plt\n",
    "import seaborn as sns\n",
    "import pandas as pd # Make sure pandas is imported if not done in cell 1\n",
    "import os           # Make sure os is imported if not done in cell 1\n",
    "\n",
    "\n",
    "# --- Configuration ---\n",
    "# Ensure this points correctly relative to the notebook's location\n",
    "DATA_PATH = '../data/synthetic_founder_data.csv'\n",
    "MODEL_SAVE_DIR = '../models'\n",
    "\n",
    "# --- DEFINE FILENAMES ---\n",
    "MODEL_FILENAME = 'founder_success_model.keras' # Explicitly use .keras extension\n",
    "SCALER_FILENAME = 'founder_scaler.joblib'\n",
    "# ------------------------\n",
    "\n",
    "TEST_SIZE = 0.2\n",
    "RANDOM_STATE = 42\n",
    "EPOCHS = 50\n",
    "BATCH_SIZE = 32\n",
    "\n",
    "# Ensure the model output directory exists\n",
    "os.makedirs(MODEL_SAVE_DIR, exist_ok=True)\n",
    "\n",
    "# --- CONSTRUCT FULL PATHS ---\n",
    "MODEL_SAVE_PATH = os.path.join(MODEL_SAVE_DIR, MODEL_FILENAME) # Path for the .keras file\n",
    "SCALER_SAVE_PATH = os.path.join(MODEL_SAVE_DIR, SCALER_FILENAME)\n",
    "# ----------------------------\n",
    "\n",
    "# Add print statements to verify paths during execution\n",
    "print(\"--- Configuration Settings ---\")\n",
    "print(f\"Notebook execution directory: {os.getcwd()}\") # Shows where notebook thinks it is\n",
    "print(f\"Data Path: {DATA_PATH}\")\n",
    "print(f\"Model Save Directory: {MODEL_SAVE_DIR}\")\n",
    "print(f\"--> Model Filename: {MODEL_FILENAME}\")\n",
    "print(f\"--> Scaler Filename: {SCALER_FILENAME}\")\n",
    "print(f\"Model FULL Save Path: {MODEL_SAVE_PATH}\")\n",
    "print(f\"Scaler FULL Save Path: {SCALER_SAVE_PATH}\")\n",
    "print(\"-\" * 30)"
   ]
  },
  {
   "cell_type": "code",
   "execution_count": 10,
   "metadata": {
    "tags": [
     "cell3"
    ]
   },
   "outputs": [
    {
     "name": "stdout",
     "output_type": "stream",
     "text": [
      "\n",
      "--- Loading Data for Training from ../data/synthetic_founder_data.csv ---\n",
      "Data loaded successfully.\n",
      "\n",
      "Features: ['years_exp', 'prior_exits', 'education_tier']\n",
      "Target: success\n",
      "\n",
      "--- Splitting Data (Test Size: 0.2) ---\n",
      "Training set shape: X=(800, 3), y=(800,)\n",
      "Test set shape: X=(200, 3), y=(200,)\n",
      "\n",
      "--- Scaling Features using StandardScaler ---\n",
      "Sample of scaled training data:\n",
      "      years_exp  prior_exits  education_tier\n",
      "839   0.480519    -0.727539       -1.219032\n",
      "743   0.043262    -0.727539        0.001526\n",
      "847   1.711208    -1.428781        1.222084\n",
      "301   0.139913     0.674945       -1.219032\n",
      "252   1.219292    -0.026297        1.222084\n"
     ]
    }
   ],
   "source": [
    "# notebooks/01_Founder_Model_Training.ipynb (Cell 3: Load & Preprocess Data)\n",
    "\n",
    "print(f\"\\n--- Loading Data for Training from {DATA_PATH} ---\")\n",
    "df = pd.read_csv(DATA_PATH)\n",
    "print(\"Data loaded successfully.\")\n",
    "\n",
    "# Define Features (X) and Target (y)\n",
    "features = ['years_exp', 'prior_exits', 'education_tier']\n",
    "target = 'success'\n",
    "X = df[features]\n",
    "y = df[target]\n",
    "\n",
    "print(f\"\\nFeatures: {features}\")\n",
    "print(f\"Target: {target}\")\n",
    "\n",
    "# Split Data into Training and Testing sets\n",
    "print(f\"\\n--- Splitting Data (Test Size: {TEST_SIZE}) ---\")\n",
    "X_train, X_test, y_train, y_test = train_test_split(\n",
    "    X, y, test_size=TEST_SIZE, random_state=RANDOM_STATE, stratify=y # Stratify helps balance classes in splits\n",
    ")\n",
    "print(f\"Training set shape: X={X_train.shape}, y={y_train.shape}\")\n",
    "print(f\"Test set shape: X={X_test.shape}, y={y_test.shape}\")\n",
    "\n",
    "# Scale Numerical Features (Crucial for Neural Networks)\n",
    "# Fit the scaler ONLY on the training data, then transform both train and test sets\n",
    "print(\"\\n--- Scaling Features using StandardScaler ---\")\n",
    "scaler = StandardScaler()\n",
    "X_train_scaled = scaler.fit_transform(X_train)\n",
    "X_test_scaled = scaler.transform(X_test)\n",
    "\n",
    "# Convert scaled arrays back to DataFrames (optional, but can be useful for inspection)\n",
    "X_train_scaled_df = pd.DataFrame(X_train_scaled, columns=features, index=X_train.index)\n",
    "X_test_scaled_df = pd.DataFrame(X_test_scaled, columns=features, index=X_test.index)\n",
    "\n",
    "print(\"Sample of scaled training data:\\n\", X_train_scaled_df.head())"
   ]
  },
  {
   "cell_type": "code",
   "execution_count": 11,
   "metadata": {
    "tags": [
     "cell4"
    ]
   },
   "outputs": [
    {
     "name": "stdout",
     "output_type": "stream",
     "text": [
      "\n",
      "--- Building TensorFlow Keras Model ---\n"
     ]
    },
    {
     "data": {
      "text/html": [
       "<pre style=\"white-space:pre;overflow-x:auto;line-height:normal;font-family:Menlo,'DejaVu Sans Mono',consolas,'Courier New',monospace\"><span style=\"font-weight: bold\">Model: \"sequential_1\"</span>\n",
       "</pre>\n"
      ],
      "text/plain": [
       "\u001b[1mModel: \"sequential_1\"\u001b[0m\n"
      ]
     },
     "metadata": {},
     "output_type": "display_data"
    },
    {
     "data": {
      "text/html": [
       "<pre style=\"white-space:pre;overflow-x:auto;line-height:normal;font-family:Menlo,'DejaVu Sans Mono',consolas,'Courier New',monospace\">┏━━━━━━━━━━━━━━━━━━━━━━━━━━━━━━━━━┳━━━━━━━━━━━━━━━━━━━━━━━━┳━━━━━━━━━━━━━━━┓\n",
       "┃<span style=\"font-weight: bold\"> Layer (type)                    </span>┃<span style=\"font-weight: bold\"> Output Shape           </span>┃<span style=\"font-weight: bold\">       Param # </span>┃\n",
       "┡━━━━━━━━━━━━━━━━━━━━━━━━━━━━━━━━━╇━━━━━━━━━━━━━━━━━━━━━━━━╇━━━━━━━━━━━━━━━┩\n",
       "│ Hidden_Layer_1 (<span style=\"color: #0087ff; text-decoration-color: #0087ff\">Dense</span>)          │ (<span style=\"color: #00d7ff; text-decoration-color: #00d7ff\">None</span>, <span style=\"color: #00af00; text-decoration-color: #00af00\">16</span>)             │            <span style=\"color: #00af00; text-decoration-color: #00af00\">64</span> │\n",
       "├─────────────────────────────────┼────────────────────────┼───────────────┤\n",
       "│ dropout_1 (<span style=\"color: #0087ff; text-decoration-color: #0087ff\">Dropout</span>)             │ (<span style=\"color: #00d7ff; text-decoration-color: #00d7ff\">None</span>, <span style=\"color: #00af00; text-decoration-color: #00af00\">16</span>)             │             <span style=\"color: #00af00; text-decoration-color: #00af00\">0</span> │\n",
       "├─────────────────────────────────┼────────────────────────┼───────────────┤\n",
       "│ Hidden_Layer_2 (<span style=\"color: #0087ff; text-decoration-color: #0087ff\">Dense</span>)          │ (<span style=\"color: #00d7ff; text-decoration-color: #00d7ff\">None</span>, <span style=\"color: #00af00; text-decoration-color: #00af00\">8</span>)              │           <span style=\"color: #00af00; text-decoration-color: #00af00\">136</span> │\n",
       "├─────────────────────────────────┼────────────────────────┼───────────────┤\n",
       "│ Output_Layer (<span style=\"color: #0087ff; text-decoration-color: #0087ff\">Dense</span>)            │ (<span style=\"color: #00d7ff; text-decoration-color: #00d7ff\">None</span>, <span style=\"color: #00af00; text-decoration-color: #00af00\">1</span>)              │             <span style=\"color: #00af00; text-decoration-color: #00af00\">9</span> │\n",
       "└─────────────────────────────────┴────────────────────────┴───────────────┘\n",
       "</pre>\n"
      ],
      "text/plain": [
       "┏━━━━━━━━━━━━━━━━━━━━━━━━━━━━━━━━━┳━━━━━━━━━━━━━━━━━━━━━━━━┳━━━━━━━━━━━━━━━┓\n",
       "┃\u001b[1m \u001b[0m\u001b[1mLayer (type)                   \u001b[0m\u001b[1m \u001b[0m┃\u001b[1m \u001b[0m\u001b[1mOutput Shape          \u001b[0m\u001b[1m \u001b[0m┃\u001b[1m \u001b[0m\u001b[1m      Param #\u001b[0m\u001b[1m \u001b[0m┃\n",
       "┡━━━━━━━━━━━━━━━━━━━━━━━━━━━━━━━━━╇━━━━━━━━━━━━━━━━━━━━━━━━╇━━━━━━━━━━━━━━━┩\n",
       "│ Hidden_Layer_1 (\u001b[38;5;33mDense\u001b[0m)          │ (\u001b[38;5;45mNone\u001b[0m, \u001b[38;5;34m16\u001b[0m)             │            \u001b[38;5;34m64\u001b[0m │\n",
       "├─────────────────────────────────┼────────────────────────┼───────────────┤\n",
       "│ dropout_1 (\u001b[38;5;33mDropout\u001b[0m)             │ (\u001b[38;5;45mNone\u001b[0m, \u001b[38;5;34m16\u001b[0m)             │             \u001b[38;5;34m0\u001b[0m │\n",
       "├─────────────────────────────────┼────────────────────────┼───────────────┤\n",
       "│ Hidden_Layer_2 (\u001b[38;5;33mDense\u001b[0m)          │ (\u001b[38;5;45mNone\u001b[0m, \u001b[38;5;34m8\u001b[0m)              │           \u001b[38;5;34m136\u001b[0m │\n",
       "├─────────────────────────────────┼────────────────────────┼───────────────┤\n",
       "│ Output_Layer (\u001b[38;5;33mDense\u001b[0m)            │ (\u001b[38;5;45mNone\u001b[0m, \u001b[38;5;34m1\u001b[0m)              │             \u001b[38;5;34m9\u001b[0m │\n",
       "└─────────────────────────────────┴────────────────────────┴───────────────┘\n"
      ]
     },
     "metadata": {},
     "output_type": "display_data"
    },
    {
     "data": {
      "text/html": [
       "<pre style=\"white-space:pre;overflow-x:auto;line-height:normal;font-family:Menlo,'DejaVu Sans Mono',consolas,'Courier New',monospace\"><span style=\"font-weight: bold\"> Total params: </span><span style=\"color: #00af00; text-decoration-color: #00af00\">209</span> (836.00 B)\n",
       "</pre>\n"
      ],
      "text/plain": [
       "\u001b[1m Total params: \u001b[0m\u001b[38;5;34m209\u001b[0m (836.00 B)\n"
      ]
     },
     "metadata": {},
     "output_type": "display_data"
    },
    {
     "data": {
      "text/html": [
       "<pre style=\"white-space:pre;overflow-x:auto;line-height:normal;font-family:Menlo,'DejaVu Sans Mono',consolas,'Courier New',monospace\"><span style=\"font-weight: bold\"> Trainable params: </span><span style=\"color: #00af00; text-decoration-color: #00af00\">209</span> (836.00 B)\n",
       "</pre>\n"
      ],
      "text/plain": [
       "\u001b[1m Trainable params: \u001b[0m\u001b[38;5;34m209\u001b[0m (836.00 B)\n"
      ]
     },
     "metadata": {},
     "output_type": "display_data"
    },
    {
     "data": {
      "text/html": [
       "<pre style=\"white-space:pre;overflow-x:auto;line-height:normal;font-family:Menlo,'DejaVu Sans Mono',consolas,'Courier New',monospace\"><span style=\"font-weight: bold\"> Non-trainable params: </span><span style=\"color: #00af00; text-decoration-color: #00af00\">0</span> (0.00 B)\n",
       "</pre>\n"
      ],
      "text/plain": [
       "\u001b[1m Non-trainable params: \u001b[0m\u001b[38;5;34m0\u001b[0m (0.00 B)\n"
      ]
     },
     "metadata": {},
     "output_type": "display_data"
    },
    {
     "name": "stdout",
     "output_type": "stream",
     "text": [
      "None\n"
     ]
    }
   ],
   "source": [
    "# notebooks/01_Founder_Model_Training.ipynb (Cell 4: Build TensorFlow Model)\n",
    "\n",
    "print(\"\\n--- Building TensorFlow Keras Model ---\")\n",
    "\n",
    "# Simple Sequential Model\n",
    "model = tf.keras.models.Sequential([\n",
    "    # Input layer: shape depends on the number of features\n",
    "    tf.keras.layers.Input(shape=(X_train_scaled.shape[1],), name=\"Input_Layer\"),\n",
    "    # Hidden layers with ReLU activation\n",
    "    tf.keras.layers.Dense(16, activation='relu', name=\"Hidden_Layer_1\"),\n",
    "    tf.keras.layers.Dropout(0.3), # Dropout for regularization (reduce overfitting)\n",
    "    tf.keras.layers.Dense(8, activation='relu', name=\"Hidden_Layer_2\"),\n",
    "    # Output layer: 1 neuron with sigmoid activation for binary classification (outputs probability 0-1)\n",
    "    tf.keras.layers.Dense(1, activation='sigmoid', name=\"Output_Layer\")\n",
    "])\n",
    "\n",
    "# Compile the model: Specify optimizer, loss function, and metrics\n",
    "model.compile(optimizer='adam', # Adam is a common and effective optimizer\n",
    "              loss='binary_crossentropy', # Standard loss for binary classification\n",
    "              metrics=['accuracy', tf.keras.metrics.AUC(name='auc')]) # Track accuracy and Area Under Curve\n",
    "\n",
    "# Print model summary\n",
    "print(model.summary())"
   ]
  },
  {
   "cell_type": "code",
   "execution_count": 12,
   "metadata": {
    "tags": [
     "cell5"
    ]
   },
   "outputs": [
    {
     "name": "stdout",
     "output_type": "stream",
     "text": [
      "\n",
      "--- Training Model for 50 Epochs ---\n",
      "Epoch 1/50\n",
      "\u001b[1m20/20\u001b[0m \u001b[32m━━━━━━━━━━━━━━━━━━━━\u001b[0m\u001b[37m\u001b[0m \u001b[1m3s\u001b[0m 25ms/step - accuracy: 0.3666 - auc: 0.4715 - loss: 0.7984 - val_accuracy: 0.4250 - val_auc: 0.4359 - val_loss: 0.7340\n",
      "Epoch 2/50\n",
      "\u001b[1m20/20\u001b[0m \u001b[32m━━━━━━━━━━━━━━━━━━━━\u001b[0m\u001b[37m\u001b[0m \u001b[1m0s\u001b[0m 9ms/step - accuracy: 0.4448 - auc: 0.4809 - loss: 0.7416 - val_accuracy: 0.4812 - val_auc: 0.4741 - val_loss: 0.7055\n",
      "Epoch 3/50\n",
      "\u001b[1m20/20\u001b[0m \u001b[32m━━━━━━━━━━━━━━━━━━━━\u001b[0m\u001b[37m\u001b[0m \u001b[1m0s\u001b[0m 10ms/step - accuracy: 0.5110 - auc: 0.4958 - loss: 0.7077 - val_accuracy: 0.6062 - val_auc: 0.5121 - val_loss: 0.6835\n",
      "Epoch 4/50\n",
      "\u001b[1m20/20\u001b[0m \u001b[32m━━━━━━━━━━━━━━━━━━━━\u001b[0m\u001b[37m\u001b[0m \u001b[1m0s\u001b[0m 8ms/step - accuracy: 0.5700 - auc: 0.5077 - loss: 0.6886 - val_accuracy: 0.6750 - val_auc: 0.5490 - val_loss: 0.6642\n",
      "Epoch 5/50\n",
      "\u001b[1m20/20\u001b[0m \u001b[32m━━━━━━━━━━━━━━━━━━━━\u001b[0m\u001b[37m\u001b[0m \u001b[1m0s\u001b[0m 8ms/step - accuracy: 0.7193 - auc: 0.6013 - loss: 0.6538 - val_accuracy: 0.6938 - val_auc: 0.5917 - val_loss: 0.6465\n",
      "Epoch 6/50\n",
      "\u001b[1m20/20\u001b[0m \u001b[32m━━━━━━━━━━━━━━━━━━━━\u001b[0m\u001b[37m\u001b[0m \u001b[1m0s\u001b[0m 8ms/step - accuracy: 0.6877 - auc: 0.6325 - loss: 0.6399 - val_accuracy: 0.6938 - val_auc: 0.6218 - val_loss: 0.6320\n",
      "Epoch 7/50\n",
      "\u001b[1m20/20\u001b[0m \u001b[32m━━━━━━━━━━━━━━━━━━━━\u001b[0m\u001b[37m\u001b[0m \u001b[1m0s\u001b[0m 8ms/step - accuracy: 0.7304 - auc: 0.6047 - loss: 0.6221 - val_accuracy: 0.6875 - val_auc: 0.6462 - val_loss: 0.6194\n",
      "Epoch 8/50\n",
      "\u001b[1m20/20\u001b[0m \u001b[32m━━━━━━━━━━━━━━━━━━━━\u001b[0m\u001b[37m\u001b[0m \u001b[1m0s\u001b[0m 9ms/step - accuracy: 0.7275 - auc: 0.6523 - loss: 0.6090 - val_accuracy: 0.7125 - val_auc: 0.6709 - val_loss: 0.6080\n",
      "Epoch 9/50\n",
      "\u001b[1m20/20\u001b[0m \u001b[32m━━━━━━━━━━━━━━━━━━━━\u001b[0m\u001b[37m\u001b[0m \u001b[1m0s\u001b[0m 8ms/step - accuracy: 0.7282 - auc: 0.6403 - loss: 0.5956 - val_accuracy: 0.6938 - val_auc: 0.6874 - val_loss: 0.5987\n",
      "Epoch 10/50\n",
      "\u001b[1m20/20\u001b[0m \u001b[32m━━━━━━━━━━━━━━━━━━━━\u001b[0m\u001b[37m\u001b[0m \u001b[1m0s\u001b[0m 8ms/step - accuracy: 0.7018 - auc: 0.6329 - loss: 0.6057 - val_accuracy: 0.6938 - val_auc: 0.7093 - val_loss: 0.5893\n",
      "Epoch 11/50\n",
      "\u001b[1m20/20\u001b[0m \u001b[32m━━━━━━━━━━━━━━━━━━━━\u001b[0m\u001b[37m\u001b[0m \u001b[1m0s\u001b[0m 7ms/step - accuracy: 0.7068 - auc: 0.6756 - loss: 0.5867 - val_accuracy: 0.6938 - val_auc: 0.7268 - val_loss: 0.5796\n",
      "Epoch 12/50\n",
      "\u001b[1m20/20\u001b[0m \u001b[32m━━━━━━━━━━━━━━━━━━━━\u001b[0m\u001b[37m\u001b[0m \u001b[1m0s\u001b[0m 8ms/step - accuracy: 0.7102 - auc: 0.6928 - loss: 0.5876 - val_accuracy: 0.7063 - val_auc: 0.7345 - val_loss: 0.5721\n",
      "Epoch 13/50\n",
      "\u001b[1m20/20\u001b[0m \u001b[32m━━━━━━━━━━━━━━━━━━━━\u001b[0m\u001b[37m\u001b[0m \u001b[1m0s\u001b[0m 8ms/step - accuracy: 0.7133 - auc: 0.6721 - loss: 0.5699 - val_accuracy: 0.7000 - val_auc: 0.7405 - val_loss: 0.5676\n",
      "Epoch 14/50\n",
      "\u001b[1m20/20\u001b[0m \u001b[32m━━━━━━━━━━━━━━━━━━━━\u001b[0m\u001b[37m\u001b[0m \u001b[1m0s\u001b[0m 7ms/step - accuracy: 0.7364 - auc: 0.6968 - loss: 0.5513 - val_accuracy: 0.7063 - val_auc: 0.7469 - val_loss: 0.5612\n",
      "Epoch 15/50\n",
      "\u001b[1m20/20\u001b[0m \u001b[32m━━━━━━━━━━━━━━━━━━━━\u001b[0m\u001b[37m\u001b[0m \u001b[1m0s\u001b[0m 9ms/step - accuracy: 0.7316 - auc: 0.7043 - loss: 0.5443 - val_accuracy: 0.7063 - val_auc: 0.7529 - val_loss: 0.5564\n",
      "Epoch 16/50\n",
      "\u001b[1m20/20\u001b[0m \u001b[32m━━━━━━━━━━━━━━━━━━━━\u001b[0m\u001b[37m\u001b[0m \u001b[1m0s\u001b[0m 10ms/step - accuracy: 0.7220 - auc: 0.6992 - loss: 0.5583 - val_accuracy: 0.7250 - val_auc: 0.7586 - val_loss: 0.5508\n",
      "Epoch 17/50\n",
      "\u001b[1m20/20\u001b[0m \u001b[32m━━━━━━━━━━━━━━━━━━━━\u001b[0m\u001b[37m\u001b[0m \u001b[1m0s\u001b[0m 9ms/step - accuracy: 0.6725 - auc: 0.7060 - loss: 0.5718 - val_accuracy: 0.7250 - val_auc: 0.7610 - val_loss: 0.5471\n",
      "Epoch 18/50\n",
      "\u001b[1m20/20\u001b[0m \u001b[32m━━━━━━━━━━━━━━━━━━━━\u001b[0m\u001b[37m\u001b[0m \u001b[1m0s\u001b[0m 7ms/step - accuracy: 0.7490 - auc: 0.7243 - loss: 0.5278 - val_accuracy: 0.7250 - val_auc: 0.7622 - val_loss: 0.5435\n",
      "Epoch 19/50\n",
      "\u001b[1m20/20\u001b[0m \u001b[32m━━━━━━━━━━━━━━━━━━━━\u001b[0m\u001b[37m\u001b[0m \u001b[1m0s\u001b[0m 9ms/step - accuracy: 0.7214 - auc: 0.7213 - loss: 0.5508 - val_accuracy: 0.7125 - val_auc: 0.7666 - val_loss: 0.5400\n",
      "Epoch 20/50\n",
      "\u001b[1m20/20\u001b[0m \u001b[32m━━━━━━━━━━━━━━━━━━━━\u001b[0m\u001b[37m\u001b[0m \u001b[1m0s\u001b[0m 10ms/step - accuracy: 0.7107 - auc: 0.7211 - loss: 0.5557 - val_accuracy: 0.7188 - val_auc: 0.7676 - val_loss: 0.5383\n",
      "Epoch 21/50\n",
      "\u001b[1m20/20\u001b[0m \u001b[32m━━━━━━━━━━━━━━━━━━━━\u001b[0m\u001b[37m\u001b[0m \u001b[1m0s\u001b[0m 11ms/step - accuracy: 0.7194 - auc: 0.7260 - loss: 0.5494 - val_accuracy: 0.7250 - val_auc: 0.7665 - val_loss: 0.5369\n",
      "Epoch 22/50\n",
      "\u001b[1m20/20\u001b[0m \u001b[32m━━━━━━━━━━━━━━━━━━━━\u001b[0m\u001b[37m\u001b[0m \u001b[1m0s\u001b[0m 10ms/step - accuracy: 0.7151 - auc: 0.7460 - loss: 0.5305 - val_accuracy: 0.7188 - val_auc: 0.7689 - val_loss: 0.5353\n",
      "Epoch 23/50\n",
      "\u001b[1m20/20\u001b[0m \u001b[32m━━━━━━━━━━━━━━━━━━━━\u001b[0m\u001b[37m\u001b[0m \u001b[1m0s\u001b[0m 12ms/step - accuracy: 0.7128 - auc: 0.7125 - loss: 0.5620 - val_accuracy: 0.7188 - val_auc: 0.7709 - val_loss: 0.5338\n",
      "Epoch 24/50\n",
      "\u001b[1m20/20\u001b[0m \u001b[32m━━━━━━━━━━━━━━━━━━━━\u001b[0m\u001b[37m\u001b[0m \u001b[1m0s\u001b[0m 9ms/step - accuracy: 0.7202 - auc: 0.7271 - loss: 0.5516 - val_accuracy: 0.7250 - val_auc: 0.7704 - val_loss: 0.5321\n",
      "Epoch 25/50\n",
      "\u001b[1m20/20\u001b[0m \u001b[32m━━━━━━━━━━━━━━━━━━━━\u001b[0m\u001b[37m\u001b[0m \u001b[1m0s\u001b[0m 10ms/step - accuracy: 0.7226 - auc: 0.7148 - loss: 0.5410 - val_accuracy: 0.7188 - val_auc: 0.7701 - val_loss: 0.5331\n",
      "Epoch 26/50\n",
      "\u001b[1m20/20\u001b[0m \u001b[32m━━━━━━━━━━━━━━━━━━━━\u001b[0m\u001b[37m\u001b[0m \u001b[1m0s\u001b[0m 10ms/step - accuracy: 0.7032 - auc: 0.7433 - loss: 0.5408 - val_accuracy: 0.7188 - val_auc: 0.7723 - val_loss: 0.5323\n",
      "Epoch 27/50\n",
      "\u001b[1m20/20\u001b[0m \u001b[32m━━━━━━━━━━━━━━━━━━━━\u001b[0m\u001b[37m\u001b[0m \u001b[1m0s\u001b[0m 8ms/step - accuracy: 0.6946 - auc: 0.7364 - loss: 0.5472 - val_accuracy: 0.7188 - val_auc: 0.7725 - val_loss: 0.5309\n",
      "Epoch 28/50\n",
      "\u001b[1m20/20\u001b[0m \u001b[32m━━━━━━━━━━━━━━━━━━━━\u001b[0m\u001b[37m\u001b[0m \u001b[1m0s\u001b[0m 8ms/step - accuracy: 0.7708 - auc: 0.7767 - loss: 0.4951 - val_accuracy: 0.7188 - val_auc: 0.7731 - val_loss: 0.5306\n",
      "Epoch 29/50\n",
      "\u001b[1m20/20\u001b[0m \u001b[32m━━━━━━━━━━━━━━━━━━━━\u001b[0m\u001b[37m\u001b[0m \u001b[1m0s\u001b[0m 10ms/step - accuracy: 0.7469 - auc: 0.7362 - loss: 0.5177 - val_accuracy: 0.7250 - val_auc: 0.7732 - val_loss: 0.5303\n",
      "Epoch 30/50\n",
      "\u001b[1m20/20\u001b[0m \u001b[32m━━━━━━━━━━━━━━━━━━━━\u001b[0m\u001b[37m\u001b[0m \u001b[1m0s\u001b[0m 10ms/step - accuracy: 0.7419 - auc: 0.7450 - loss: 0.5212 - val_accuracy: 0.7375 - val_auc: 0.7730 - val_loss: 0.5287\n",
      "Epoch 31/50\n",
      "\u001b[1m20/20\u001b[0m \u001b[32m━━━━━━━━━━━━━━━━━━━━\u001b[0m\u001b[37m\u001b[0m \u001b[1m0s\u001b[0m 9ms/step - accuracy: 0.6890 - auc: 0.7221 - loss: 0.5524 - val_accuracy: 0.7375 - val_auc: 0.7725 - val_loss: 0.5283\n",
      "Epoch 32/50\n",
      "\u001b[1m20/20\u001b[0m \u001b[32m━━━━━━━━━━━━━━━━━━━━\u001b[0m\u001b[37m\u001b[0m \u001b[1m0s\u001b[0m 10ms/step - accuracy: 0.7667 - auc: 0.7910 - loss: 0.4986 - val_accuracy: 0.7375 - val_auc: 0.7746 - val_loss: 0.5278\n",
      "Epoch 33/50\n",
      "\u001b[1m20/20\u001b[0m \u001b[32m━━━━━━━━━━━━━━━━━━━━\u001b[0m\u001b[37m\u001b[0m \u001b[1m0s\u001b[0m 10ms/step - accuracy: 0.7097 - auc: 0.7349 - loss: 0.5411 - val_accuracy: 0.7312 - val_auc: 0.7734 - val_loss: 0.5277\n",
      "Epoch 34/50\n",
      "\u001b[1m20/20\u001b[0m \u001b[32m━━━━━━━━━━━━━━━━━━━━\u001b[0m\u001b[37m\u001b[0m \u001b[1m0s\u001b[0m 9ms/step - accuracy: 0.7538 - auc: 0.7598 - loss: 0.5136 - val_accuracy: 0.7312 - val_auc: 0.7730 - val_loss: 0.5275\n",
      "Epoch 35/50\n",
      "\u001b[1m20/20\u001b[0m \u001b[32m━━━━━━━━━━━━━━━━━━━━\u001b[0m\u001b[37m\u001b[0m \u001b[1m0s\u001b[0m 10ms/step - accuracy: 0.7325 - auc: 0.7500 - loss: 0.5153 - val_accuracy: 0.7312 - val_auc: 0.7732 - val_loss: 0.5275\n",
      "Epoch 36/50\n",
      "\u001b[1m20/20\u001b[0m \u001b[32m━━━━━━━━━━━━━━━━━━━━\u001b[0m\u001b[37m\u001b[0m \u001b[1m0s\u001b[0m 9ms/step - accuracy: 0.6976 - auc: 0.7001 - loss: 0.5564 - val_accuracy: 0.7250 - val_auc: 0.7735 - val_loss: 0.5277\n",
      "Epoch 37/50\n",
      "\u001b[1m20/20\u001b[0m \u001b[32m━━━━━━━━━━━━━━━━━━━━\u001b[0m\u001b[37m\u001b[0m \u001b[1m0s\u001b[0m 9ms/step - accuracy: 0.7295 - auc: 0.7811 - loss: 0.5094 - val_accuracy: 0.7375 - val_auc: 0.7712 - val_loss: 0.5264\n",
      "Epoch 38/50\n",
      "\u001b[1m20/20\u001b[0m \u001b[32m━━━━━━━━━━━━━━━━━━━━\u001b[0m\u001b[37m\u001b[0m \u001b[1m0s\u001b[0m 8ms/step - accuracy: 0.7254 - auc: 0.7626 - loss: 0.5340 - val_accuracy: 0.7375 - val_auc: 0.7697 - val_loss: 0.5260\n",
      "Epoch 39/50\n",
      "\u001b[1m20/20\u001b[0m \u001b[32m━━━━━━━━━━━━━━━━━━━━\u001b[0m\u001b[37m\u001b[0m \u001b[1m0s\u001b[0m 9ms/step - accuracy: 0.7064 - auc: 0.7578 - loss: 0.5240 - val_accuracy: 0.7375 - val_auc: 0.7715 - val_loss: 0.5263\n",
      "Epoch 40/50\n",
      "\u001b[1m20/20\u001b[0m \u001b[32m━━━━━━━━━━━━━━━━━━━━\u001b[0m\u001b[37m\u001b[0m \u001b[1m0s\u001b[0m 10ms/step - accuracy: 0.7085 - auc: 0.7421 - loss: 0.5465 - val_accuracy: 0.7375 - val_auc: 0.7719 - val_loss: 0.5262\n",
      "Epoch 41/50\n",
      "\u001b[1m20/20\u001b[0m \u001b[32m━━━━━━━━━━━━━━━━━━━━\u001b[0m\u001b[37m\u001b[0m \u001b[1m0s\u001b[0m 8ms/step - accuracy: 0.7345 - auc: 0.7131 - loss: 0.5339 - val_accuracy: 0.7375 - val_auc: 0.7728 - val_loss: 0.5268\n",
      "Epoch 42/50\n",
      "\u001b[1m20/20\u001b[0m \u001b[32m━━━━━━━━━━━━━━━━━━━━\u001b[0m\u001b[37m\u001b[0m \u001b[1m0s\u001b[0m 9ms/step - accuracy: 0.7507 - auc: 0.7377 - loss: 0.5343 - val_accuracy: 0.7375 - val_auc: 0.7722 - val_loss: 0.5263\n",
      "Epoch 43/50\n",
      "\u001b[1m20/20\u001b[0m \u001b[32m━━━━━━━━━━━━━━━━━━━━\u001b[0m\u001b[37m\u001b[0m \u001b[1m0s\u001b[0m 7ms/step - accuracy: 0.7096 - auc: 0.7345 - loss: 0.5497 - val_accuracy: 0.7375 - val_auc: 0.7714 - val_loss: 0.5260\n",
      "Epoch 44/50\n",
      "\u001b[1m20/20\u001b[0m \u001b[32m━━━━━━━━━━━━━━━━━━━━\u001b[0m\u001b[37m\u001b[0m \u001b[1m0s\u001b[0m 7ms/step - accuracy: 0.7218 - auc: 0.7754 - loss: 0.5223 - val_accuracy: 0.7375 - val_auc: 0.7722 - val_loss: 0.5254\n",
      "Epoch 45/50\n",
      "\u001b[1m20/20\u001b[0m \u001b[32m━━━━━━━━━━━━━━━━━━━━\u001b[0m\u001b[37m\u001b[0m \u001b[1m0s\u001b[0m 9ms/step - accuracy: 0.7204 - auc: 0.7223 - loss: 0.5523 - val_accuracy: 0.7375 - val_auc: 0.7716 - val_loss: 0.5265\n",
      "Epoch 46/50\n",
      "\u001b[1m20/20\u001b[0m \u001b[32m━━━━━━━━━━━━━━━━━━━━\u001b[0m\u001b[37m\u001b[0m \u001b[1m0s\u001b[0m 8ms/step - accuracy: 0.7040 - auc: 0.7518 - loss: 0.5371 - val_accuracy: 0.7375 - val_auc: 0.7742 - val_loss: 0.5264\n",
      "Epoch 47/50\n",
      "\u001b[1m20/20\u001b[0m \u001b[32m━━━━━━━━━━━━━━━━━━━━\u001b[0m\u001b[37m\u001b[0m \u001b[1m0s\u001b[0m 10ms/step - accuracy: 0.7327 - auc: 0.7433 - loss: 0.5302 - val_accuracy: 0.7375 - val_auc: 0.7727 - val_loss: 0.5266\n",
      "Epoch 48/50\n",
      "\u001b[1m20/20\u001b[0m \u001b[32m━━━━━━━━━━━━━━━━━━━━\u001b[0m\u001b[37m\u001b[0m \u001b[1m0s\u001b[0m 11ms/step - accuracy: 0.7048 - auc: 0.7067 - loss: 0.5585 - val_accuracy: 0.7375 - val_auc: 0.7731 - val_loss: 0.5261\n",
      "Epoch 49/50\n",
      "\u001b[1m20/20\u001b[0m \u001b[32m━━━━━━━━━━━━━━━━━━━━\u001b[0m\u001b[37m\u001b[0m \u001b[1m0s\u001b[0m 9ms/step - accuracy: 0.7391 - auc: 0.7436 - loss: 0.5096 - val_accuracy: 0.7375 - val_auc: 0.7731 - val_loss: 0.5266\n",
      "Epoch 50/50\n",
      "\u001b[1m20/20\u001b[0m \u001b[32m━━━━━━━━━━━━━━━━━━━━\u001b[0m\u001b[37m\u001b[0m \u001b[1m0s\u001b[0m 7ms/step - accuracy: 0.7018 - auc: 0.7158 - loss: 0.5646 - val_accuracy: 0.7375 - val_auc: 0.7750 - val_loss: 0.5260\n",
      "\n",
      "Model training complete.\n",
      "\n",
      "--- Plotting Training History ---\n"
     ]
    },
    {
     "data": {
      "image/png": "[encoded data removed]",
      "text/plain": [
       "<Figure size 1200x500 with 2 Axes>"
      ]
     },
     "metadata": {},
     "output_type": "display_data"
    }
   ],
   "source": [
    "# notebooks/01_Founder_Model_Training.ipynb (Cell 5: Train the Model)\n",
    "\n",
    "print(f\"\\n--- Training Model for {EPOCHS} Epochs ---\")\n",
    "\n",
    "# Train the model using the scaled training data\n",
    "# validation_split uses a portion of the training data to monitor performance on unseen data during training\n",
    "history = model.fit(\n",
    "    X_train_scaled,\n",
    "    y_train,\n",
    "    epochs=EPOCHS,\n",
    "    batch_size=BATCH_SIZE,\n",
    "    validation_split=0.2, # Use 20% of training data for validation\n",
    "    verbose=1 # Show progress bar (set to 0 for silent, 2 for one line per epoch)\n",
    ")\n",
    "\n",
    "print(\"\\nModel training complete.\")\n",
    "\n",
    "# Plot training history (Loss and AUC) - Optional but helpful\n",
    "print(\"\\n--- Plotting Training History ---\")\n",
    "fig, (ax1, ax2) = plt.subplots(1, 2, figsize=(12, 5))\n",
    "\n",
    "# Plot Loss\n",
    "ax1.plot(history.history['loss'], label='Training Loss')\n",
    "ax1.plot(history.history['val_loss'], label='Validation Loss')\n",
    "ax1.set_title('Model Loss')\n",
    "ax1.set_ylabel('Loss')\n",
    "ax1.set_xlabel('Epoch')\n",
    "ax1.legend()\n",
    "\n",
    "# Plot AUC\n",
    "ax2.plot(history.history['auc'], label='Training AUC')\n",
    "ax2.plot(history.history['val_auc'], label='Validation AUC')\n",
    "ax2.set_title('Model AUC')\n",
    "ax2.set_ylabel('AUC')\n",
    "ax2.set_xlabel('Epoch')\n",
    "ax2.legend()\n",
    "\n",
    "plt.tight_layout()\n",
    "plt.show()"
   ]
  },
  {
   "cell_type": "code",
   "execution_count": 13,
   "metadata": {
    "tags": [
     "cell6"
    ]
   },
   "outputs": [
    {
     "name": "stdout",
     "output_type": "stream",
     "text": [
      "\n",
      "--- Evaluating Model on Test Set ---\n",
      "Test Loss: 0.5250\n",
      "Test Accuracy: 0.7500\n",
      "Test AUC: 0.7599\n",
      "\u001b[1m7/7\u001b[0m \u001b[32m━━━━━━━━━━━━━━━━━━━━\u001b[0m\u001b[37m\u001b[0m \u001b[1m0s\u001b[0m 11ms/step\n",
      "\n",
      "Classification Report (Test Set):\n",
      "              precision    recall  f1-score   support\n",
      "\n",
      "           0       0.63      0.43      0.51        61\n",
      "           1       0.78      0.89      0.83       139\n",
      "\n",
      "    accuracy                           0.75       200\n",
      "   macro avg       0.71      0.66      0.67       200\n",
      "weighted avg       0.74      0.75      0.73       200\n",
      "\n",
      "\n",
      "Confusion Matrix (Test Set):\n"
     ]
    },
    {
     "data": {
      "image/png": "[encoded data removed]",
      "text/plain": [
       "<Figure size 640x480 with 2 Axes>"
      ]
     },
     "metadata": {},
     "output_type": "display_data"
    }
   ],
   "source": [
    "# notebooks/01_Founder_Model_Training.ipynb (Cell 6: Evaluate the Model)\n",
    "\n",
    "print(\"\\n--- Evaluating Model on Test Set ---\")\n",
    "\n",
    "# Evaluate the trained model on the unseen test data (scaled)\n",
    "loss, accuracy, auc = model.evaluate(X_test_scaled, y_test, verbose=0)\n",
    "print(f\"Test Loss: {loss:.4f}\")\n",
    "print(f\"Test Accuracy: {accuracy:.4f}\")\n",
    "print(f\"Test AUC: {auc:.4f}\")\n",
    "\n",
    "# Generate predictions to create classification report and confusion matrix\n",
    "y_pred_proba = model.predict(X_test_scaled).flatten() # Get probabilities\n",
    "y_pred_binary = (y_pred_proba > 0.5).astype(int) # Convert probabilities to 0 or 1 using 0.5 threshold\n",
    "\n",
    "print(\"\\nClassification Report (Test Set):\")\n",
    "print(classification_report(y_test, y_pred_binary))\n",
    "\n",
    "print(\"\\nConfusion Matrix (Test Set):\")\n",
    "cm = confusion_matrix(y_test, y_pred_binary)\n",
    "sns.heatmap(cm, annot=True, fmt='d', cmap='Blues')\n",
    "plt.xlabel('Predicted')\n",
    "plt.ylabel('Actual')\n",
    "plt.title('Confusion Matrix')\n",
    "plt.show()"
   ]
  },
  {
   "cell_type": "code",
   "execution_count": 14,
   "metadata": {
    "tags": [
     "cell7"
    ]
   },
   "outputs": [
    {
     "name": "stdout",
     "output_type": "stream",
     "text": [
      "\n",
      "--- Saving Model and Scaler ---\n",
      "TensorFlow model saved to file: ../models\\founder_success_model.keras (Exists: True)\n",
      "Scaler object saved to: ../models\\founder_scaler.joblib (Exists: True)\n",
      "\n",
      "--- Founder Model Training Notebook Complete ---\n"
     ]
    }
   ],
   "source": [
    "# notebooks/01_Founder_Model_Training.ipynb (Cell 7: Save Model and Scaler)\n",
    "\n",
    "print(\"\\n--- Saving Model and Scaler ---\")\n",
    "\n",
    "# --- Save using model.save() with the .keras filepath variable ---\n",
    "# This variable (MODEL_SAVE_PATH) MUST end with '.keras' based on Cell 2\n",
    "model.save(MODEL_SAVE_PATH)\n",
    "# ---------------------------------------------------------------\n",
    "# Check if the file was actually created\n",
    "model_exists = os.path.exists(MODEL_SAVE_PATH)\n",
    "print(f\"TensorFlow model saved to file: {MODEL_SAVE_PATH} (Exists: {model_exists})\")\n",
    "if not model_exists:\n",
    "    print(\"ERROR: Model file was NOT created after model.save() call!\")\n",
    "\n",
    "\n",
    "# Save the scaler object using joblib (This line remains the same)\n",
    "joblib.dump(scaler, SCALER_SAVE_PATH)\n",
    "scaler_exists = os.path.exists(SCALER_SAVE_PATH)\n",
    "print(f\"Scaler object saved to: {SCALER_SAVE_PATH} (Exists: {scaler_exists})\")\n",
    "if not scaler_exists:\n",
    "    print(\"ERROR: Scaler file was NOT created after joblib.dump() call!\")\n",
    "\n",
    "\n",
    "print(\"\\n--- Founder Model Training Notebook Complete ---\")"
   ]
  }
 ],
 "metadata": {
  "kernelspec": {
   "display_name": "venv",
   "language": "python",
   "name": "python3"
  },
  "language_info": {
   "codemirror_mode": {
    "name": "ipython",
    "version": 3
   },
   "file_extension": ".py",
   "mimetype": "text/x-python",
   "name": "python",
   "nbconvert_exporter": "python",
   "pygments_lexer": "ipython3",
   "version": "3.11.9"
  }
 },
 "nbformat": 4,
 "nbformat_minor": 2
}
